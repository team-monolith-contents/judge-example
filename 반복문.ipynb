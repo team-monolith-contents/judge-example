{
 "cells": [
  {
   "cell_type": "markdown",
   "id": "8302efa6-464f-435f-93ef-cf53625f06f3",
   "metadata": {},
   "source": [
    "> ✔ 본 노트북에 대해\n",
    ">\n",
    "> 본 예시에서는 for문에 대한 개념과 예제를 소개하고 있습니다.\n",
    "> \n",
    "> \"어떻게 문제를 노트북 파일에 첨부하는가?\"에 대한 기술적 소개가 목적입니다.\n",
    "> \n",
    "> 개념 설명은 점프 투 파이썬에서 발췌했으며, 노트북에 맞게 일부 수정하였습니다.\n",
    "> \n",
    "> 개념 설명에 대한 저작권 또한 점프 투 파이썬에 있습니다.\n",
    "> \n",
    "> ### 참조\n",
    "> https://wikidocs.net/22"
   ]
  },
  {
   "cell_type": "markdown",
   "id": "76eeb585-7f66-4934-abfd-e0f9b7fe27e7",
   "metadata": {},
   "source": [
    "for문의 기본 구조\n",
    "----\n",
    "\n",
    "\n",
    "for문의 기본 구조는 다음과 같다.\n",
    "\n",
    "```\n",
    "for 변수 in 리스트(또는 튜플, 문자열):\n",
    "    수행할 문장1\n",
    "    수행할 문장2\n",
    "    ...\n",
    "```\n",
    "\n",
    "\n",
    "리스트나 튜플, 문자열의 첫 번째 요소부터 마지막 요소까지 차례로 변수에 대입되어 \"수행할 문장1\", \"수행할 문장2\" 등이 수행된다."
   ]
  },
  {
   "cell_type": "markdown",
   "id": "92f0f29e-52af-4e20-8673-275db6c1c801",
   "metadata": {},
   "source": [
    "예제를 통해 for문 이해하기\n",
    "----\n",
    "\n",
    "for문은 예제를 통해서 살펴보는 것이 가장 알기 쉽다. 다음 예제를 직접 입력해 보자.\n",
    "\n",
    "### 1. 전형적인 for문\n",
    "\n",
    "```\n",
    ">>> test_list = ['one', 'two', 'three'] \n",
    ">>> for i in test_list: \n",
    "...     print(i)\n",
    "... \n",
    "one \n",
    "two \n",
    "three\n",
    "```\n",
    "\n",
    "`['one', 'two', 'three']` 리스트의 첫 번째 요소인 'one'이 먼저 i 변수에 대입된 후 `print(i)` 문장을 수행한다. 다음에 두 번째 요소 'two'가 i 변수에 대입된 후 `print(i)` 문장을 수행하고 리스트의 마지막 요소까지 이것을 반복한다.\n",
    "\n",
    "다음 링크를 클릭하여 문제를 풀어보자 -> <a href='#jce-judge/open/11' target='_self'>One, Two, Three</a>"
   ]
  },
  {
   "cell_type": "markdown",
   "id": "0191e48f-fe6e-470d-9a9f-3bcb138b75ce",
   "metadata": {},
   "source": [
    "### 2. 다양한 for문의 사용\n",
    "\n",
    "```\n",
    ">>> a = [(1,2), (3,4), (5,6)]\n",
    ">>> for (first, last) in a:\n",
    "...     print(first + last)\n",
    "...\n",
    "3\n",
    "7\n",
    "11\n",
    "```\n",
    "\n",
    "위 예는 a 리스트의 요솟값이 튜플이기 때문에 각각의 요소가 자동으로 (first, last) 변수에 대입된다.\n",
    "\n",
    "> ※ 이 예는 02장에서 살펴본 튜플을 사용한 변수값 대입 방법과 매우 비슷한 경우이다.\n",
    "> \n",
    "> `>>> (first, last) = (1, 2)`"
   ]
  },
  {
   "cell_type": "markdown",
   "id": "d736ef59-e6b1-4439-a02d-25b542e41c83",
   "metadata": {},
   "source": [
    "### 3. for문의 응용\n",
    "\n",
    "for문의 쓰임새를 알기 위해 다음을 가정해 보자.\n",
    "\n",
    "```\n",
    "\"총 5명의 학생이 시험을 보았는데 시험 점수가 60점이 넘으면 합격이고 그렇지 않으면 불합격이다. 합격인지 불합격인지 결과를 보여 주시오.\"\n",
    "```\n",
    "\n",
    "우선 학생 5명의 시험 점수를 리스트로 표현해 보았다.\n",
    "\n",
    "```\n",
    "marks = [90, 25, 67, 45, 80]\n",
    "```\n",
    "\n",
    "1번 학생은 90점이고 5번 학생은 80점이다.\n",
    "\n",
    "이런 점수를 차례로 검사해서 합격했는지 불합격했는지 통보해 주는 프로그램을 만들어 보자."
   ]
  },
  {
   "cell_type": "code",
   "execution_count": 3,
   "id": "2825617a-ccaa-4e98-8bc6-9289292e202e",
   "metadata": {},
   "outputs": [
    {
     "name": "stdout",
     "output_type": "stream",
     "text": [
      "1번 학생은 합격입니다.\n",
      "2번 학생은 불합격입니다.\n",
      "3번 학생은 합격입니다.\n",
      "4번 학생은 불합격입니다.\n",
      "5번 학생은 합격입니다.\n"
     ]
    }
   ],
   "source": [
    "# 각각의 학생에게 번호를 붙여 주기 위해 number 변수를 사용하였다. \n",
    "# 점수 리스트 marks에서 차례로 점수를 꺼내어 mark라는 변수에 대입하고 for문 안의 문장들을 수행한다. \n",
    "# 우선 for문이 한 번씩 수행될 때마다 number는 1씩 증가한다.\n",
    "\n",
    "marks = [90, 25, 67, 45, 80]\n",
    "\n",
    "number = 0 \n",
    "for mark in marks: \n",
    "    number = number +1 \n",
    "    if mark >= 60: \n",
    "        print(\"%d번 학생은 합격입니다.\" % number)\n",
    "    else: \n",
    "        print(\"%d번 학생은 불합격입니다.\" % number)\n",
    "        \n",
    "# 이 프로그램을 실행하면 mark가 60 이상일 때 합격 메시지를 출력하고 60을 넘지 않을 때 불합격 메시지를 출력한다."
   ]
  },
  {
   "cell_type": "markdown",
   "id": "e448bbca-abcb-46ba-afd9-f010bf49d4c8",
   "metadata": {},
   "source": [
    "표준 입출력으로 학생의 점수가 주어질 때, 합격과 불합격을 통보하는 프로그램을 작성해보자. -> <a href='#jce-judge/open/12' target='_self'>합격과 불합격</a>"
   ]
  }
 ],
 "metadata": {
  "kernelspec": {
   "display_name": "Python 3 (ipykernel)",
   "language": "python",
   "name": "python3"
  },
  "language_info": {
   "codemirror_mode": {
    "name": "ipython",
    "version": 3
   },
   "file_extension": ".py",
   "mimetype": "text/x-python",
   "name": "python",
   "nbconvert_exporter": "python",
   "pygments_lexer": "ipython3",
   "version": "3.10.4"
  }
 },
 "nbformat": 4,
 "nbformat_minor": 5
}
